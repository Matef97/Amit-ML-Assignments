{
 "cells": [
  {
   "cell_type": "code",
   "execution_count": 40,
   "id": "26137ea7",
   "metadata": {},
   "outputs": [],
   "source": [
    "class Employee :\n",
    "    raise_amount = 1.1\n",
    "    count = 0\n",
    "    def __init__(self,first,last,pay):\n",
    "        formulate = lambda name:name.lower().replace('-','_')\n",
    "        self.first = first\n",
    "        self.last = last\n",
    "        self.email = f'{formulate(first)}.{formulate(last)}@company.com'\n",
    "        self.pay = pay\n",
    "        Employee.count+=1\n",
    "     # we can use class method as Alternative constructor\n",
    "    @classmethod\n",
    "    def from_str(cls,s):\n",
    "        items = [int(x) if x.isnumeric() else x for x in s.split(', ')]\n",
    "        return cls(*items)   \n",
    "    def apply_raise(self):\n",
    "        self.pay = int(self.pay*Employee.raise_amount)\n",
    "    def full_name(self):\n",
    "        return f'{self.first} {self.last}'\n",
    "    #def get_count():\n",
    "     #   return Employee.count\n",
    "    @classmethod\n",
    "    def get_count(cls): \n",
    "        return cls.count\n",
    "    #we use static method for business logic of the class\n",
    "    @staticmethod\n",
    "    def is_workday(year,month,day):\n",
    "        from datetime import date\n",
    "        return date(year,month,day).strftime('%A') not in {'Friday','Saturday'}\n",
    "    #string represntation dunder function\n",
    "    def __repr__(self):\n",
    "        return f'Employee(\"{self.first}\",\"{self.last}\",{self.pay})'\n",
    "    #when you want output from string function\n",
    "    def __str__(self):\n",
    "        return f\"Name : {self.full_name()}\\nE-mail : {self.email}\\nPay : {self.pay}\"\n",
    "    def __add__(self,other):\n",
    "        if  isinstance(other,Employee) :\n",
    "            return f'The total payment for two employees is  {self.pay+other.pay}'\n",
    "        else :\n",
    "            return NotImplemented\n",
    "    def __len__(self):\n",
    "        pass\n",
    "            "
   ]
  },
  {
   "cell_type": "code",
   "execution_count": 39,
   "id": "2257f9db",
   "metadata": {},
   "outputs": [],
   "source": [
    "class Developer(Employee):\n",
    "    raise_amount = 1.4\n",
    "    def __init__(self,first,last,pay,prog_langs):\n",
    "        #Employee.__init__(self,first,last,pay)\n",
    "        super().__init__(first,last,pay)\n",
    "        self.prog_langs = prog_langs\n",
    "    @classmethod\n",
    "    def from_str(cls,s):\n",
    "        items = s.split(';')\n",
    "        items[-2]= int(items[-2])\n",
    "        prog_langs = items.pop().split(',')\n",
    "        return Developer(*items,prog_langs)\n",
    "    def __repr__(self):\n",
    "        return f'Developer(\"{self.first}\",\"{self.last}\",{self.pay},programming languages : {self.prog_langs})'\n",
    "    def __str__(self):\n",
    "        pass\n",
    "    def __add__(self,other):\n",
    "        if  isinstance(other,Employee) :\n",
    "            return f'The total payment for two developers is {self.pay+other.pay}'\n",
    "        else :\n",
    "            return NotImplemented\n",
    "        \n",
    "        "
   ]
  },
  {
   "cell_type": "code",
   "execution_count": 33,
   "id": "78aaf689",
   "metadata": {},
   "outputs": [],
   "source": [
    "class Manager(Employee):\n",
    "    raise_amount = 1.16\n",
    "    def __init__(self,first,last,pay,employees = None):\n",
    "        super().__init__(first,last,pay)\n",
    "        self.employees = [] if employees == None else employees\n",
    "    def add(self,emp):\n",
    "        self.employees.append(emp)\n",
    "         "
   ]
  },
  {
   "cell_type": "code",
   "execution_count": 34,
   "id": "0d3e8182",
   "metadata": {},
   "outputs": [
    {
     "data": {
      "text/plain": [
       "Employee(\"Mostafa\",\"Atef\",60000)"
      ]
     },
     "execution_count": 34,
     "metadata": {},
     "output_type": "execute_result"
    }
   ],
   "source": [
    "emp_a = Employee('Mostafa','Atef',60000)\n",
    "emp_a\n"
   ]
  },
  {
   "cell_type": "code",
   "execution_count": 35,
   "id": "53556c63",
   "metadata": {},
   "outputs": [
    {
     "name": "stdout",
     "output_type": "stream",
     "text": [
      "Name : Mostafa Atef\n",
      "E-mail : mostafa.atef@company.com\n",
      "Pay : 60000\n"
     ]
    }
   ],
   "source": [
    "print(emp_a)"
   ]
  },
  {
   "cell_type": "code",
   "execution_count": 36,
   "id": "201f1781",
   "metadata": {},
   "outputs": [
    {
     "data": {
      "text/plain": [
       "Employee(\"Ahmed\",\"Khaled\",40000)"
      ]
     },
     "execution_count": 36,
     "metadata": {},
     "output_type": "execute_result"
    }
   ],
   "source": [
    "emp_b = Employee('Ahmed','Khaled',40000)\n",
    "emp_b"
   ]
  },
  {
   "cell_type": "code",
   "execution_count": 37,
   "id": "97fe72f2",
   "metadata": {},
   "outputs": [
    {
     "data": {
      "text/plain": [
       "'The total payment for two employees 100000'"
      ]
     },
     "execution_count": 37,
     "metadata": {},
     "output_type": "execute_result"
    }
   ],
   "source": [
    "emp_a +emp_b"
   ]
  },
  {
   "cell_type": "code",
   "execution_count": null,
   "id": "229ae2a3",
   "metadata": {},
   "outputs": [],
   "source": []
  },
  {
   "cell_type": "code",
   "execution_count": 38,
   "id": "81b81413",
   "metadata": {},
   "outputs": [
    {
     "data": {
      "text/plain": [
       "'The total payment for two developers 127000'"
      ]
     },
     "execution_count": 38,
     "metadata": {},
     "output_type": "execute_result"
    }
   ],
   "source": [
    "dev_a = Developer('Lionel','Messi',50000,['python','c++'])\n",
    "dev_b = Developer.from_str('Cris;Ronaldo;77000;java,oop')\n",
    "man_a = Manager('Test','case','1000000',[dev_a,dev_b])\n",
    "dev_b +dev_a"
   ]
  },
  {
   "cell_type": "code",
   "execution_count": null,
   "id": "510d4962",
   "metadata": {},
   "outputs": [],
   "source": []
  },
  {
   "cell_type": "code",
   "execution_count": null,
   "id": "b5af5a27",
   "metadata": {},
   "outputs": [],
   "source": []
  }
 ],
 "metadata": {
  "kernelspec": {
   "display_name": "Python 3 (ipykernel)",
   "language": "python",
   "name": "python3"
  },
  "language_info": {
   "codemirror_mode": {
    "name": "ipython",
    "version": 3
   },
   "file_extension": ".py",
   "mimetype": "text/x-python",
   "name": "python",
   "nbconvert_exporter": "python",
   "pygments_lexer": "ipython3",
   "version": "3.9.13"
  }
 },
 "nbformat": 4,
 "nbformat_minor": 5
}
