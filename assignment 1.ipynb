{
 "cells": [
  {
   "cell_type": "markdown",
   "id": "5358a036",
   "metadata": {},
   "source": [
    "# Find the Runner-Up Score! \n",
    "Given the participants' score sheet for your University Sports Day, you are required to find the runner-up score. You are given\n",
    "\n",
    "scores. Store them in a list and find the score of the runner-up.\n",
    "\n"
   ]
  },
  {
   "cell_type": "code",
   "execution_count": 7,
   "id": "7f359b7c",
   "metadata": {},
   "outputs": [
    {
     "name": "stdout",
     "output_type": "stream",
     "text": [
      "enter the number of participants (be sure to be between 2 to 10 ) : 5\n",
      "enter the score of 5 participates separated by space (be sure to be between -100 to 100 ) :10 11 12 13 14\n",
      "The first runner up score is :  13\n"
     ]
    }
   ],
   "source": [
    "n = int(input('enter the number of participants (be sure to be between 2 to 10 ) : '))\n",
    "while n >10 or n <2 :\n",
    "    n = int(input('enter the number of participants (be sure to be between 2 to 10 ) : '))\n",
    "scores = input(f'enter the score of {n} participates separated by space (be sure to be between -100 to 100 ) :').split()\n",
    "arr = list(map(int,scores))\n",
    "def runner_up(arr):\n",
    "    max_num = max(arr)\n",
    "    arr.remove(max_num)\n",
    "    while max(arr)==max_num:\n",
    "        arr.remove(max_num)\n",
    "    else:    \n",
    "        return max(arr)\n",
    "print('The first runner up score is : ',runner_up(arr))    \n"
   ]
  },
  {
   "cell_type": "code",
   "execution_count": 12,
   "id": "7184709c",
   "metadata": {},
   "outputs": [
    {
     "name": "stdout",
     "output_type": "stream",
     "text": [
      "enter the number of participants (be sure to be between 2 to 10 ) : 6\n",
      "enter the score of 6 participates separated by space (be sure to be between -100 to 100 ) :3  4 5 5  4\n",
      "enter just 6 scores ya3mna\n",
      "enter the score of 6 participates separated by space (be sure to be between -100 to 100 ) :3       4         5         6              7     8\n",
      "The first runner up score is :  7\n"
     ]
    }
   ],
   "source": [
    "n = int(input('enter the number of participants (be sure to be between 2 to 10 ) : '))\n",
    "while n >10 or n <2 :\n",
    "    n = int(input('enter the number of participants (be sure to be between 2 to 10 ) : '))\n",
    "scores = input(f'enter the score of {n} participates separated by space (be sure to be between -100 to 100 ) :').split()\n",
    "while len(scores)!=n:\n",
    "    print(f'enter just {n} scores ya3mna')\n",
    "    scores = input(f'enter the score of {n} participates separated by space (be sure to be between -100 to 100 ) :').split()\n",
    "arr = list(map(int,scores))\n",
    "def runner_up(arr):\n",
    "    max_num = max(arr)\n",
    "    arr.remove(max_num)\n",
    "    while max(arr)==max_num:\n",
    "        arr.remove(max_num)\n",
    "    else:    \n",
    "        return max(arr)\n",
    "print('The first runner up score is : ',runner_up(arr))    \n"
   ]
  },
  {
   "cell_type": "markdown",
   "id": "fb869eed",
   "metadata": {},
   "source": [
    "# List Comprehensions\n",
    "let's learn about list comprehensions! You are given three integers and representing the dimensions of a cuboid along with an integer . Print a list of all possible coordinates given by on a 3D grid where the sum of is not equal to n"
   ]
  },
  {
   "cell_type": "code",
   "execution_count": 14,
   "id": "be0ca536",
   "metadata": {},
   "outputs": [
    {
     "name": "stdout",
     "output_type": "stream",
     "text": [
      "enter the first coordinate subset 1\n",
      "enter the second coordinate subset 1\n",
      "enter the third coordinate subset 1\n",
      "enter the cubid condition number 2\n"
     ]
    },
    {
     "data": {
      "text/plain": [
       "[[0, 0, 0], [0, 0, 1], [0, 1, 0], [1, 0, 0], [1, 1, 1]]"
      ]
     },
     "execution_count": 14,
     "metadata": {},
     "output_type": "execute_result"
    }
   ],
   "source": [
    "x = int(input('enter the first coordinate subset '))\n",
    "y = int(input('enter the second coordinate subset '))\n",
    "z = int(input('enter the third coordinate subset '))\n",
    "n = int(input('enter the cubid condition number '))\n",
    "x1 =[i for i in range(0,x+1)]\n",
    "y1 = [i for i in range(0,y+1)]\n",
    "z1 = [i for i in range(0,z+1)]\n",
    "[[i,j,k] for i in x1 for j in y1 for k in z1 if (i+j+k) != n]"
   ]
  },
  {
   "cell_type": "markdown",
   "id": "e25b84ed",
   "metadata": {},
   "source": [
    "# sWAP cASE\n",
    "You are given a string and your task is to swap cases. In other words, convert all lowercase letters to uppercase letters and vice versa."
   ]
  },
  {
   "cell_type": "code",
   "execution_count": 15,
   "id": "d8c4eb61",
   "metadata": {},
   "outputs": [
    {
     "data": {
      "text/plain": [
       "'hACKERrANK.COM PRESENTS \"pYTHONIST 2\".'"
      ]
     },
     "execution_count": 15,
     "metadata": {},
     "output_type": "execute_result"
    }
   ],
   "source": [
    "def swap_case(s):\n",
    "    final_case = ''.join([i.lower() if i.isupper()== True else i.upper() for i in s ])\n",
    "    return final_case\n",
    "\n",
    "swap_case('HackerRank.com presents \"Pythonist 2\".')    "
   ]
  },
  {
   "cell_type": "code",
   "execution_count": 17,
   "id": "fc806cc9",
   "metadata": {},
   "outputs": [
    {
     "data": {
      "text/plain": [
       "['a', 'H', 'M', 'E', 'd', 'a', 'F']"
      ]
     },
     "execution_count": 17,
     "metadata": {},
     "output_type": "execute_result"
    }
   ],
   "source": [
    "s = 'AhmeDAf'\n",
    "[i.lower() if i.isupper()== True else i.upper() for i in s]"
   ]
  },
  {
   "cell_type": "markdown",
   "id": "329b5311",
   "metadata": {},
   "source": [
    "# Polar Coordinates\n",
    "Polar coordinates are an alternative way of representing Cartesian coordinates or Complex Numbers."
   ]
  },
  {
   "cell_type": "code",
   "execution_count": 44,
   "id": "391ac855",
   "metadata": {},
   "outputs": [
    {
     "name": "stdout",
     "output_type": "stream",
     "text": [
      "enter the complex number:1+2j\n",
      "2.23606797749979\n",
      "1.1071487177940904\n"
     ]
    }
   ],
   "source": [
    "import cmath\n",
    "c = complex(input('enter the complex number:').strip())\n",
    "def complex_to_polar(c):\n",
    "      for i in cmath.polar(c):\n",
    "             print(i)\n",
    "complex_to_polar(c)                "
   ]
  },
  {
   "cell_type": "code",
   "execution_count": 47,
   "id": "30907624",
   "metadata": {},
   "outputs": [
    {
     "name": "stdout",
     "output_type": "stream",
     "text": [
      "enter the complex number:-1-5j\n",
      "the value of r is :  2.23606797749979\n",
      "the phase value  is :  1.1071487177940904\n"
     ]
    }
   ],
   "source": [
    "import cmath\n",
    "c = complex(input('enter the complex number:').strip())\n",
    "def complex_to_polar(c):\n",
    "      print('the value of r is : ',abs(1+2j))\n",
    "      print('the phase value  is : ',cmath.phase(1+2j))\n",
    "        \n",
    "complex_to_polar(c)      "
   ]
  },
  {
   "cell_type": "markdown",
   "id": "fbbdfceb",
   "metadata": {},
   "source": [
    "# Calendar Module\n",
    "The calendar module allows you to output calendars and provides additional useful functions for them.\n",
    "\n",
    "class calendar.TextCalendar([firstweekday])\n",
    "\n",
    "This class can be used to generate plain text calendars."
   ]
  },
  {
   "cell_type": "code",
   "execution_count": 19,
   "id": "15d64582",
   "metadata": {},
   "outputs": [
    {
     "name": "stdout",
     "output_type": "stream",
     "text": [
      "enter the date that you want in the following format (month day year):  3 17 1997\n"
     ]
    },
    {
     "data": {
      "text/plain": [
       "'MONDAY'"
      ]
     },
     "execution_count": 19,
     "metadata": {},
     "output_type": "execute_result"
    }
   ],
   "source": [
    "import calendar\n",
    "from datetime import datetime\n",
    "d = input('enter the date that you want in the following format (month day year):  ')\n",
    "def get_day_name(d):\n",
    "     date = datetime.strptime(d, '%m %d %Y').date()\n",
    "     day = calendar.weekday(date.year,date.month,date.day)\n",
    "     return calendar.day_name[day].upper()\n",
    "get_day_name(d)"
   ]
  },
  {
   "cell_type": "code",
   "execution_count": null,
   "id": "dcdf96e6",
   "metadata": {},
   "outputs": [],
   "source": []
  }
 ],
 "metadata": {
  "kernelspec": {
   "display_name": "Python 3 (ipykernel)",
   "language": "python",
   "name": "python3"
  },
  "language_info": {
   "codemirror_mode": {
    "name": "ipython",
    "version": 3
   },
   "file_extension": ".py",
   "mimetype": "text/x-python",
   "name": "python",
   "nbconvert_exporter": "python",
   "pygments_lexer": "ipython3",
   "version": "3.9.13"
  }
 },
 "nbformat": 4,
 "nbformat_minor": 5
}
