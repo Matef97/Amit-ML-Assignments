{
 "cells": [
  {
   "cell_type": "code",
   "execution_count": 52,
   "id": "26137ea7",
   "metadata": {},
   "outputs": [],
   "source": [
    "class Employee :\n",
    "    raise_amount = 1.1\n",
    "    count = 0\n",
    "    def __init__(self,first,last,pay):\n",
    "        formulate = lambda name:name.lower().replace('-','_')\n",
    "        self.first = first\n",
    "        self.last = last\n",
    "        self.email = f'{formulate(first)}.{formulate(last)}@company.com'\n",
    "        self.pay = pay\n",
    "        Employee.count+=1\n",
    "     # we can use class method as Alternative constructor\n",
    "    @classmethod\n",
    "    def from_str(cls,s):\n",
    "        items = [int(x) if x.isnumeric() else x for x in s.split(', ')]\n",
    "        return cls(*items)   \n",
    "    def apply_raise(self):\n",
    "        self.pay = int(self.pay*Employee.raise_amount)\n",
    "    def full_name(self):\n",
    "        return f'{self.first} {self.last}'\n",
    "    #def get_count():\n",
    "     #   return Employee.count\n",
    "    @classmethod\n",
    "    def get_count(cls): \n",
    "        return cls.count\n",
    "    #we use static method for business logic of the class\n",
    "    @staticmethod\n",
    "    def is_workday(year,month,day):\n",
    "        from datetime import date\n",
    "        return date(year,month,day).strftime('%A') not in {'Friday','Saturday'}\n",
    "    #string represntation dunder function\n",
    "    def __repr__(self):\n",
    "        return f'Employee(\"{self.first}\",\"{self.last}\",{self.pay})'\n",
    "    #when you want output from string function\n",
    "    def __str__(self):\n",
    "        return f\"Name : {self.full_name()}\\nE-mail : {self.email}\\nPay : {self.pay}\"\n",
    "    def __add__(self,other):\n",
    "        if  isinstance(other,Employee) :\n",
    "            return f'The total payment for two employees is  {self.pay+other.pay}'\n",
    "        else :\n",
    "            return NotImplemented\n",
    "    def __len__(self):\n",
    "        return len(self.first)+len(self.last)\n",
    "            "
   ]
  },
  {
   "cell_type": "code",
   "execution_count": 61,
   "id": "2257f9db",
   "metadata": {},
   "outputs": [],
   "source": [
    "class Developer(Employee):\n",
    "    raise_amount = 1.4\n",
    "    def __init__(self,first,last,pay,prog_langs):\n",
    "        #Employee.__init__(self,first,last,pay)\n",
    "        super().__init__(first,last,pay)\n",
    "        self.prog_langs = prog_langs\n",
    "    @classmethod\n",
    "    def from_str(cls,s):\n",
    "        items = s.split(';')\n",
    "        items[-2]= int(items[-2])\n",
    "        prog_langs = items.pop().split(',')\n",
    "        return Developer(*items,prog_langs)\n",
    "    def __repr__(self):\n",
    "        return f'Developer(\"{self.first}\",\"{self.last}\",{self.pay},programming languages : {self.prog_langs})'\n",
    "    def __str__(self):\n",
    "        n = '\\n                       '.join(self.prog_langs)\n",
    "        return f\"Name : {self.full_name()}\\nE-mail : {self.email}\\nPay : {self.pay}\\nPrograming Languages : {n}\"\n",
    "    def __add__(self,other):\n",
    "        if  isinstance(other,Employee) :\n",
    "            return f'The total payment for two developers is {self.pay+other.pay}'\n",
    "        else :\n",
    "            return NotImplemented\n",
    "    def __len__(self):\n",
    "        return len(self.first)+len(self.last)\n",
    "        "
   ]
  },
  {
   "cell_type": "code",
   "execution_count": 129,
   "id": "78aaf689",
   "metadata": {},
   "outputs": [],
   "source": [
    "class Manager(Employee):\n",
    "    raise_amount = 1.16\n",
    "    def __init__(self,first,last,pay,employees = None):\n",
    "        super().__init__(first,last,pay)\n",
    "        self.employees = [] if employees == None else employees\n",
    "    def add(self,emp):\n",
    "        self.employees.append(emp)\n",
    "    def __repr__(self):\n",
    "        return f'Manager(\"{self.first}\",\"{self.last}\",{self.pay},\\nTeam Members : {self.employees})'\n",
    "    def __str__(self):\n",
    "        return f\"Name : {self.full_name()}\\nE-mail : {self.email}\\nPay : {self.pay}\\n      'Team Members'  \\n{self.employees[0]}\\n{self.employees[1]}\"\n",
    "    def __add__(self,other):\n",
    "        if  isinstance(other,Employee) :\n",
    "            return f'The total payment for two managers is {int(self.pay)+int(other.pay)}'\n",
    "        else :\n",
    "            return NotImplemented\n",
    "    def __len__(self):\n",
    "        return len(self.first)+len(self.last)\n"
   ]
  },
  {
   "cell_type": "code",
   "execution_count": 130,
   "id": "0d3e8182",
   "metadata": {},
   "outputs": [
    {
     "data": {
      "text/plain": [
       "Employee(\"Mostafa\",\"Atef\",60000)"
      ]
     },
     "execution_count": 130,
     "metadata": {},
     "output_type": "execute_result"
    }
   ],
   "source": [
    "emp_a = Employee('Mostafa','Atef',60000)\n",
    "emp_a\n"
   ]
  },
  {
   "cell_type": "code",
   "execution_count": 131,
   "id": "53556c63",
   "metadata": {},
   "outputs": [
    {
     "name": "stdout",
     "output_type": "stream",
     "text": [
      "Name : Mostafa Atef\n",
      "E-mail : mostafa.atef@company.com\n",
      "Pay : 60000\n"
     ]
    }
   ],
   "source": [
    "print(emp_a)"
   ]
  },
  {
   "cell_type": "code",
   "execution_count": 132,
   "id": "201f1781",
   "metadata": {},
   "outputs": [
    {
     "data": {
      "text/plain": [
       "Employee(\"Ahmed\",\"Khaled\",40000)"
      ]
     },
     "execution_count": 132,
     "metadata": {},
     "output_type": "execute_result"
    }
   ],
   "source": [
    "emp_b = Employee('Ahmed','Khaled',40000)\n",
    "emp_b"
   ]
  },
  {
   "cell_type": "code",
   "execution_count": 133,
   "id": "97fe72f2",
   "metadata": {},
   "outputs": [
    {
     "data": {
      "text/plain": [
       "'The total payment for two employees is  100000'"
      ]
     },
     "execution_count": 133,
     "metadata": {},
     "output_type": "execute_result"
    }
   ],
   "source": [
    "emp_a +emp_b"
   ]
  },
  {
   "cell_type": "code",
   "execution_count": 134,
   "id": "229ae2a3",
   "metadata": {},
   "outputs": [
    {
     "data": {
      "text/plain": [
       "11"
      ]
     },
     "execution_count": 134,
     "metadata": {},
     "output_type": "execute_result"
    }
   ],
   "source": [
    "len(emp_a)"
   ]
  },
  {
   "cell_type": "code",
   "execution_count": 135,
   "id": "81b81413",
   "metadata": {},
   "outputs": [
    {
     "data": {
      "text/plain": [
       "'The total payment for two developers is 127000'"
      ]
     },
     "execution_count": 135,
     "metadata": {},
     "output_type": "execute_result"
    }
   ],
   "source": [
    "dev_a = Developer('Lionel','Messi',50000,['python','c++'])\n",
    "dev_b = Developer.from_str('Cristiano;Ronaldo;77000;java,c,c#,python')\n",
    "dev_b +dev_a"
   ]
  },
  {
   "cell_type": "code",
   "execution_count": 136,
   "id": "510d4962",
   "metadata": {},
   "outputs": [
    {
     "data": {
      "text/plain": [
       "Developer(\"Cristiano\",\"Ronaldo\",77000,programming languages : ['java', 'c', 'c#', 'python'])"
      ]
     },
     "execution_count": 136,
     "metadata": {},
     "output_type": "execute_result"
    }
   ],
   "source": [
    "dev_b"
   ]
  },
  {
   "cell_type": "code",
   "execution_count": 137,
   "id": "b5af5a27",
   "metadata": {},
   "outputs": [
    {
     "name": "stdout",
     "output_type": "stream",
     "text": [
      "Name : Lionel Messi\n",
      "E-mail : lionel.messi@company.com\n",
      "Pay : 50000\n",
      "Programing Languages : python\n",
      "                       c++\n"
     ]
    }
   ],
   "source": [
    "print(dev_a)"
   ]
  },
  {
   "cell_type": "code",
   "execution_count": 138,
   "id": "1a74cd5f",
   "metadata": {},
   "outputs": [
    {
     "name": "stdout",
     "output_type": "stream",
     "text": [
      "Name : Cristiano Ronaldo\n",
      "E-mail : cristiano.ronaldo@company.com\n",
      "Pay : 77000\n",
      "Programing Languages : java\n",
      "                       c\n",
      "                       c#\n",
      "                       python\n"
     ]
    }
   ],
   "source": [
    "print(dev_b)\n"
   ]
  },
  {
   "cell_type": "code",
   "execution_count": 139,
   "id": "4054095e",
   "metadata": {},
   "outputs": [
    {
     "data": {
      "text/plain": [
       "16"
      ]
     },
     "execution_count": 139,
     "metadata": {},
     "output_type": "execute_result"
    }
   ],
   "source": [
    "len(dev_b)"
   ]
  },
  {
   "cell_type": "code",
   "execution_count": 140,
   "id": "44148a54",
   "metadata": {},
   "outputs": [
    {
     "data": {
      "text/plain": [
       "Manager(\"Train\",\"case\",3000000,\n",
       "Team Members : [Developer(\"Lionel\",\"Messi\",50000,programming languages : ['python', 'c++']), Developer(\"Cristiano\",\"Ronaldo\",77000,programming languages : ['java', 'c', 'c#', 'python'])])"
      ]
     },
     "execution_count": 140,
     "metadata": {},
     "output_type": "execute_result"
    }
   ],
   "source": [
    "man_a = Manager('Test','case','1000000',[dev_a,dev_b])\n",
    "man_b = Manager('Train','case','3000000',[dev_a,dev_b])\n",
    "\n",
    "man_b"
   ]
  },
  {
   "cell_type": "code",
   "execution_count": 141,
   "id": "13425f7f",
   "metadata": {},
   "outputs": [
    {
     "name": "stdout",
     "output_type": "stream",
     "text": [
      "Name : Test case\n",
      "E-mail : test.case@company.com\n",
      "Pay : 1000000\n",
      "      'Team Members'  \n",
      "Name : Lionel Messi\n",
      "E-mail : lionel.messi@company.com\n",
      "Pay : 50000\n",
      "Programing Languages : python\n",
      "                       c++\n",
      "Name : Cristiano Ronaldo\n",
      "E-mail : cristiano.ronaldo@company.com\n",
      "Pay : 77000\n",
      "Programing Languages : java\n",
      "                       c\n",
      "                       c#\n",
      "                       python\n"
     ]
    }
   ],
   "source": [
    "print(man_a)"
   ]
  },
  {
   "cell_type": "code",
   "execution_count": 142,
   "id": "4c28ad34",
   "metadata": {},
   "outputs": [
    {
     "name": "stdout",
     "output_type": "stream",
     "text": [
      "Name : Train case\n",
      "E-mail : train.case@company.com\n",
      "Pay : 3000000\n",
      "      'Team Members'  \n",
      "Name : Lionel Messi\n",
      "E-mail : lionel.messi@company.com\n",
      "Pay : 50000\n",
      "Programing Languages : python\n",
      "                       c++\n",
      "Name : Cristiano Ronaldo\n",
      "E-mail : cristiano.ronaldo@company.com\n",
      "Pay : 77000\n",
      "Programing Languages : java\n",
      "                       c\n",
      "                       c#\n",
      "                       python\n"
     ]
    }
   ],
   "source": [
    "print(man_b)"
   ]
  },
  {
   "cell_type": "code",
   "execution_count": 143,
   "id": "30b62032",
   "metadata": {},
   "outputs": [
    {
     "data": {
      "text/plain": [
       "8"
      ]
     },
     "execution_count": 143,
     "metadata": {},
     "output_type": "execute_result"
    }
   ],
   "source": [
    "len(man_a)"
   ]
  },
  {
   "cell_type": "code",
   "execution_count": 144,
   "id": "883a6971",
   "metadata": {},
   "outputs": [
    {
     "data": {
      "text/plain": [
       "'The total payment for two managers is 4000000'"
      ]
     },
     "execution_count": 144,
     "metadata": {},
     "output_type": "execute_result"
    }
   ],
   "source": [
    "man_a+man_b"
   ]
  },
  {
   "cell_type": "code",
   "execution_count": null,
   "id": "16135918",
   "metadata": {},
   "outputs": [],
   "source": []
  },
  {
   "cell_type": "code",
   "execution_count": null,
   "id": "27cea9ec",
   "metadata": {},
   "outputs": [],
   "source": []
  }
 ],
 "metadata": {
  "kernelspec": {
   "display_name": "Python 3 (ipykernel)",
   "language": "python",
   "name": "python3"
  },
  "language_info": {
   "codemirror_mode": {
    "name": "ipython",
    "version": 3
   },
   "file_extension": ".py",
   "mimetype": "text/x-python",
   "name": "python",
   "nbconvert_exporter": "python",
   "pygments_lexer": "ipython3",
   "version": "3.9.13"
  }
 },
 "nbformat": 4,
 "nbformat_minor": 5
}
